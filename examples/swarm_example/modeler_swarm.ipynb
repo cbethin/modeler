{
 "cells": [
  {
   "cell_type": "markdown",
   "metadata": {},
   "source": [
    "## Modeler Swarm\n",
    "This notebook demonstrates how to use a Modeler server in an OpenAI Swarm. In this case, the Modeler is running\n",
    "on the default port 5042.\n",
    "\n",
    "Be sure to run `chat_server.start_server()` in `using_modeler.ipynb` before running this notebook."
   ]
  },
  {
   "cell_type": "code",
   "execution_count": null,
   "metadata": {},
   "outputs": [],
   "source": [
    "from swarm import Swarm, Agent\n",
    "import openai\n",
    "\n",
    "custom_client = openai.OpenAI(base_url=\"http://localhost:5042/v1\", api_key=\"must_be_something\")\n",
    "client = Swarm(client=custom_client)\n",
    "model = \"fine_tuned\"\n",
    "\n",
    "def transfer_to_agent_b():\n",
    "    return agent_b\n",
    "\n",
    "agent_a = Agent(\n",
    "    name=\"Agent A\",\n",
    "    instructions=\"You are a helpful agent.\",\n",
    "    # Switch this between fine_tuned and gpt-4o to switch between models on modeler\n",
    "    model=\"fine_tuned\",\n",
    "    functions=[transfer_to_agent_b],\n",
    ")\n",
    "\n",
    "agent_b = Agent(\n",
    "    name=\"Agent B\",\n",
    "    model=model,\n",
    "    instructions=\"Only speak in Haikus.\",\n",
    ")\n",
    "\n",
    "response = client.run(\n",
    "    agent=agent_a,\n",
    "    messages=[{\"role\": \"user\", \"content\": \"Prompt 28142\"}],\n",
    ")\n",
    "\n",
    "print(response.messages[-1][\"content\"])"
   ]
  }
 ],
 "metadata": {
  "kernelspec": {
   "display_name": "Python 3",
   "language": "python",
   "name": "python3"
  },
  "language_info": {
   "codemirror_mode": {
    "name": "ipython",
    "version": 3
   },
   "file_extension": ".py",
   "mimetype": "text/x-python",
   "name": "python",
   "nbconvert_exporter": "python",
   "pygments_lexer": "ipython3",
   "version": "3.12.4"
  }
 },
 "nbformat": 4,
 "nbformat_minor": 2
}
